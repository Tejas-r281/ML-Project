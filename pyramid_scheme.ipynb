{
  "cells": [
    {
      "cell_type": "markdown",
      "id": "8da3591c-57aa-42b2-9c71-a94d7053ca3c",
      "metadata": {
        "id": "8da3591c-57aa-42b2-9c71-a94d7053ca3c"
      },
      "source": [
        "##**IMPORTING MODULES**"
      ]
    },
    {
      "cell_type": "code",
      "execution_count": null,
      "id": "5cdb1103-fdad-488b-abcf-d5d802392218",
      "metadata": {
        "id": "5cdb1103-fdad-488b-abcf-d5d802392218"
      },
      "outputs": [],
      "source": [
        "import pandas as pd ### a powerful data analysis and manipulation library for Python\n",
        "\n",
        "import numpy as np ### Array, Linear Algebra, Random Number Generation\n",
        "\n",
        "import matplotlib.pyplot as plt ### pyplot is mainly intended for interactive plots\n",
        "\n",
        "import seaborn as sns ### For showing various types of plots\n",
        "\n",
        "from sklearn.linear_model import LogisticRegression \n",
        "### This class implements regularized logistic regression\n",
        "\n",
        "import sklearn.metrics as skm \n",
        "### module includes score functions, performance metrics\n",
        "\n",
        "from sklearn.model_selection import train_test_split\n",
        "### Split arrays or matrices into random train and test subsets"
      ]
    },
    {
      "cell_type": "markdown",
      "source": [
        "##**READING CSV FILE**"
      ],
      "metadata": {
        "id": "n8oHT7G_HB4w"
      },
      "id": "n8oHT7G_HB4w"
    },
    {
      "cell_type": "code",
      "execution_count": null,
      "id": "50bc2287-7435-44ea-8238-af6aa31e5fae",
      "metadata": {
        "id": "50bc2287-7435-44ea-8238-af6aa31e5fae",
        "colab": {
          "base_uri": "https://localhost:8080/",
          "height": 468
        },
        "outputId": "10c52458-f91e-4746-979c-b92e1f6cef8e"
      },
      "outputs": [
        {
          "output_type": "execute_result",
          "data": {
            "text/plain": [
              "     Unnamed: 0  cost_price  profit_markup  depth_of_tree  sales_commission  \\\n",
              "0             1        3500              2             21              1000   \n",
              "1             2        3500              2             26              1000   \n",
              "2             3        3500              2             23              1000   \n",
              "3             4        3500              3             12              1000   \n",
              "4             5        3500              2             12              1000   \n",
              "..          ...         ...            ...            ...               ...   \n",
              "495         496        3500              5             12              1000   \n",
              "496         497        3500              3              8              1000   \n",
              "497         498        3500              2             10              1000   \n",
              "498         499        3500              4             21              1000   \n",
              "499         500        3500              3             18              1000   \n",
              "\n",
              "     profit  \n",
              "0    -16500  \n",
              "1    -21500  \n",
              "2    -18500  \n",
              "3     -4000  \n",
              "4     -7500  \n",
              "..      ...  \n",
              "495    3000  \n",
              "496       0  \n",
              "497   -5500  \n",
              "498   -9500  \n",
              "499  -10000  \n",
              "\n",
              "[500 rows x 6 columns]"
            ],
            "text/html": [
              "\n",
              "  <div id=\"df-b4424397-5b6d-45ff-9787-7ae912ca781a\">\n",
              "    <div class=\"colab-df-container\">\n",
              "      <div>\n",
              "<style scoped>\n",
              "    .dataframe tbody tr th:only-of-type {\n",
              "        vertical-align: middle;\n",
              "    }\n",
              "\n",
              "    .dataframe tbody tr th {\n",
              "        vertical-align: top;\n",
              "    }\n",
              "\n",
              "    .dataframe thead th {\n",
              "        text-align: right;\n",
              "    }\n",
              "</style>\n",
              "<table border=\"1\" class=\"dataframe\">\n",
              "  <thead>\n",
              "    <tr style=\"text-align: right;\">\n",
              "      <th></th>\n",
              "      <th>Unnamed: 0</th>\n",
              "      <th>cost_price</th>\n",
              "      <th>profit_markup</th>\n",
              "      <th>depth_of_tree</th>\n",
              "      <th>sales_commission</th>\n",
              "      <th>profit</th>\n",
              "    </tr>\n",
              "  </thead>\n",
              "  <tbody>\n",
              "    <tr>\n",
              "      <th>0</th>\n",
              "      <td>1</td>\n",
              "      <td>3500</td>\n",
              "      <td>2</td>\n",
              "      <td>21</td>\n",
              "      <td>1000</td>\n",
              "      <td>-16500</td>\n",
              "    </tr>\n",
              "    <tr>\n",
              "      <th>1</th>\n",
              "      <td>2</td>\n",
              "      <td>3500</td>\n",
              "      <td>2</td>\n",
              "      <td>26</td>\n",
              "      <td>1000</td>\n",
              "      <td>-21500</td>\n",
              "    </tr>\n",
              "    <tr>\n",
              "      <th>2</th>\n",
              "      <td>3</td>\n",
              "      <td>3500</td>\n",
              "      <td>2</td>\n",
              "      <td>23</td>\n",
              "      <td>1000</td>\n",
              "      <td>-18500</td>\n",
              "    </tr>\n",
              "    <tr>\n",
              "      <th>3</th>\n",
              "      <td>4</td>\n",
              "      <td>3500</td>\n",
              "      <td>3</td>\n",
              "      <td>12</td>\n",
              "      <td>1000</td>\n",
              "      <td>-4000</td>\n",
              "    </tr>\n",
              "    <tr>\n",
              "      <th>4</th>\n",
              "      <td>5</td>\n",
              "      <td>3500</td>\n",
              "      <td>2</td>\n",
              "      <td>12</td>\n",
              "      <td>1000</td>\n",
              "      <td>-7500</td>\n",
              "    </tr>\n",
              "    <tr>\n",
              "      <th>...</th>\n",
              "      <td>...</td>\n",
              "      <td>...</td>\n",
              "      <td>...</td>\n",
              "      <td>...</td>\n",
              "      <td>...</td>\n",
              "      <td>...</td>\n",
              "    </tr>\n",
              "    <tr>\n",
              "      <th>495</th>\n",
              "      <td>496</td>\n",
              "      <td>3500</td>\n",
              "      <td>5</td>\n",
              "      <td>12</td>\n",
              "      <td>1000</td>\n",
              "      <td>3000</td>\n",
              "    </tr>\n",
              "    <tr>\n",
              "      <th>496</th>\n",
              "      <td>497</td>\n",
              "      <td>3500</td>\n",
              "      <td>3</td>\n",
              "      <td>8</td>\n",
              "      <td>1000</td>\n",
              "      <td>0</td>\n",
              "    </tr>\n",
              "    <tr>\n",
              "      <th>497</th>\n",
              "      <td>498</td>\n",
              "      <td>3500</td>\n",
              "      <td>2</td>\n",
              "      <td>10</td>\n",
              "      <td>1000</td>\n",
              "      <td>-5500</td>\n",
              "    </tr>\n",
              "    <tr>\n",
              "      <th>498</th>\n",
              "      <td>499</td>\n",
              "      <td>3500</td>\n",
              "      <td>4</td>\n",
              "      <td>21</td>\n",
              "      <td>1000</td>\n",
              "      <td>-9500</td>\n",
              "    </tr>\n",
              "    <tr>\n",
              "      <th>499</th>\n",
              "      <td>500</td>\n",
              "      <td>3500</td>\n",
              "      <td>3</td>\n",
              "      <td>18</td>\n",
              "      <td>1000</td>\n",
              "      <td>-10000</td>\n",
              "    </tr>\n",
              "  </tbody>\n",
              "</table>\n",
              "<p>500 rows × 6 columns</p>\n",
              "</div>\n",
              "      <button class=\"colab-df-convert\" onclick=\"convertToInteractive('df-b4424397-5b6d-45ff-9787-7ae912ca781a')\"\n",
              "              title=\"Convert this dataframe to an interactive table.\"\n",
              "              style=\"display:none;\">\n",
              "        \n",
              "  <svg xmlns=\"http://www.w3.org/2000/svg\" height=\"24px\"viewBox=\"0 0 24 24\"\n",
              "       width=\"24px\">\n",
              "    <path d=\"M0 0h24v24H0V0z\" fill=\"none\"/>\n",
              "    <path d=\"M18.56 5.44l.94 2.06.94-2.06 2.06-.94-2.06-.94-.94-2.06-.94 2.06-2.06.94zm-11 1L8.5 8.5l.94-2.06 2.06-.94-2.06-.94L8.5 2.5l-.94 2.06-2.06.94zm10 10l.94 2.06.94-2.06 2.06-.94-2.06-.94-.94-2.06-.94 2.06-2.06.94z\"/><path d=\"M17.41 7.96l-1.37-1.37c-.4-.4-.92-.59-1.43-.59-.52 0-1.04.2-1.43.59L10.3 9.45l-7.72 7.72c-.78.78-.78 2.05 0 2.83L4 21.41c.39.39.9.59 1.41.59.51 0 1.02-.2 1.41-.59l7.78-7.78 2.81-2.81c.8-.78.8-2.07 0-2.86zM5.41 20L4 18.59l7.72-7.72 1.47 1.35L5.41 20z\"/>\n",
              "  </svg>\n",
              "      </button>\n",
              "      \n",
              "  <style>\n",
              "    .colab-df-container {\n",
              "      display:flex;\n",
              "      flex-wrap:wrap;\n",
              "      gap: 12px;\n",
              "    }\n",
              "\n",
              "    .colab-df-convert {\n",
              "      background-color: #E8F0FE;\n",
              "      border: none;\n",
              "      border-radius: 50%;\n",
              "      cursor: pointer;\n",
              "      display: none;\n",
              "      fill: #1967D2;\n",
              "      height: 32px;\n",
              "      padding: 0 0 0 0;\n",
              "      width: 32px;\n",
              "    }\n",
              "\n",
              "    .colab-df-convert:hover {\n",
              "      background-color: #E2EBFA;\n",
              "      box-shadow: 0px 1px 2px rgba(60, 64, 67, 0.3), 0px 1px 3px 1px rgba(60, 64, 67, 0.15);\n",
              "      fill: #174EA6;\n",
              "    }\n",
              "\n",
              "    [theme=dark] .colab-df-convert {\n",
              "      background-color: #3B4455;\n",
              "      fill: #D2E3FC;\n",
              "    }\n",
              "\n",
              "    [theme=dark] .colab-df-convert:hover {\n",
              "      background-color: #434B5C;\n",
              "      box-shadow: 0px 1px 3px 1px rgba(0, 0, 0, 0.15);\n",
              "      filter: drop-shadow(0px 1px 2px rgba(0, 0, 0, 0.3));\n",
              "      fill: #FFFFFF;\n",
              "    }\n",
              "  </style>\n",
              "\n",
              "      <script>\n",
              "        const buttonEl =\n",
              "          document.querySelector('#df-b4424397-5b6d-45ff-9787-7ae912ca781a button.colab-df-convert');\n",
              "        buttonEl.style.display =\n",
              "          google.colab.kernel.accessAllowed ? 'block' : 'none';\n",
              "\n",
              "        async function convertToInteractive(key) {\n",
              "          const element = document.querySelector('#df-b4424397-5b6d-45ff-9787-7ae912ca781a');\n",
              "          const dataTable =\n",
              "            await google.colab.kernel.invokeFunction('convertToInteractive',\n",
              "                                                     [key], {});\n",
              "          if (!dataTable) return;\n",
              "\n",
              "          const docLinkHtml = 'Like what you see? Visit the ' +\n",
              "            '<a target=\"_blank\" href=https://colab.research.google.com/notebooks/data_table.ipynb>data table notebook</a>'\n",
              "            + ' to learn more about interactive tables.';\n",
              "          element.innerHTML = '';\n",
              "          dataTable['output_type'] = 'display_data';\n",
              "          await google.colab.output.renderOutput(dataTable, element);\n",
              "          const docLink = document.createElement('div');\n",
              "          docLink.innerHTML = docLinkHtml;\n",
              "          element.appendChild(docLink);\n",
              "        }\n",
              "      </script>\n",
              "    </div>\n",
              "  </div>\n",
              "  "
            ]
          },
          "metadata": {},
          "execution_count": 2
        }
      ],
      "source": [
        "# Read the data from .csv file\n",
        "data = pd.read_csv('pyramid_scheme.csv')\n",
        "data "
      ]
    },
    {
      "cell_type": "markdown",
      "source": [
        "##**DATA EXPLORATION**"
      ],
      "metadata": {
        "id": "JvSSf1LbJlmA"
      },
      "id": "JvSSf1LbJlmA"
    },
    {
      "cell_type": "code",
      "execution_count": null,
      "id": "a62b4bbc-165c-48f4-8d48-936af7a2daf8",
      "metadata": {
        "colab": {
          "base_uri": "https://localhost:8080/"
        },
        "id": "a62b4bbc-165c-48f4-8d48-936af7a2daf8",
        "outputId": "e6e4d136-7c25-443c-debb-8ba06fab8efd"
      },
      "outputs": [
        {
          "output_type": "stream",
          "name": "stdout",
          "text": [
            "<class 'pandas.core.frame.DataFrame'>\n",
            "RangeIndex: 500 entries, 0 to 499\n",
            "Data columns (total 6 columns):\n",
            " #   Column            Non-Null Count  Dtype\n",
            "---  ------            --------------  -----\n",
            " 0   Unnamed: 0        500 non-null    int64\n",
            " 1   cost_price        500 non-null    int64\n",
            " 2   profit_markup     500 non-null    int64\n",
            " 3   depth_of_tree     500 non-null    int64\n",
            " 4   sales_commission  500 non-null    int64\n",
            " 5   profit            500 non-null    int64\n",
            "dtypes: int64(6)\n",
            "memory usage: 23.6 KB\n"
          ]
        }
      ],
      "source": [
        "# printing the column informations\n",
        "data.info()"
      ]
    },
    {
      "cell_type": "code",
      "execution_count": null,
      "id": "40f1dc5d-195b-4d8d-9155-fae511745b07",
      "metadata": {
        "colab": {
          "base_uri": "https://localhost:8080/",
          "height": 382
        },
        "id": "40f1dc5d-195b-4d8d-9155-fae511745b07",
        "outputId": "2f93b74a-217f-4528-cb31-aba7e332d91a"
      },
      "outputs": [
        {
          "output_type": "execute_result",
          "data": {
            "text/plain": [
              "       Unnamed: 0  cost_price  profit_markup  depth_of_tree  sales_commission  \\\n",
              "count  500.000000       500.0     500.000000     500.000000             500.0   \n",
              "mean   250.500000      3500.0       3.498000      15.896000            1000.0   \n",
              "std    144.481833         0.0       1.126292       8.095694               0.0   \n",
              "min      1.000000      3500.0       2.000000       2.000000            1000.0   \n",
              "25%    125.750000      3500.0       3.000000       9.000000            1000.0   \n",
              "50%    250.500000      3500.0       3.000000      16.000000            1000.0   \n",
              "75%    375.250000      3500.0       5.000000      23.000000            1000.0   \n",
              "max    500.000000      3500.0       5.000000      30.000000            1000.0   \n",
              "\n",
              "             profit  \n",
              "count    500.000000  \n",
              "mean   -6153.000000  \n",
              "std     9080.528784  \n",
              "min   -25500.000000  \n",
              "25%   -12500.000000  \n",
              "50%    -6500.000000  \n",
              "75%      500.000000  \n",
              "max    13000.000000  "
            ],
            "text/html": [
              "\n",
              "  <div id=\"df-4eeee0a2-c1a3-417f-a70c-8ddd1d4c3fa3\">\n",
              "    <div class=\"colab-df-container\">\n",
              "      <div>\n",
              "<style scoped>\n",
              "    .dataframe tbody tr th:only-of-type {\n",
              "        vertical-align: middle;\n",
              "    }\n",
              "\n",
              "    .dataframe tbody tr th {\n",
              "        vertical-align: top;\n",
              "    }\n",
              "\n",
              "    .dataframe thead th {\n",
              "        text-align: right;\n",
              "    }\n",
              "</style>\n",
              "<table border=\"1\" class=\"dataframe\">\n",
              "  <thead>\n",
              "    <tr style=\"text-align: right;\">\n",
              "      <th></th>\n",
              "      <th>Unnamed: 0</th>\n",
              "      <th>cost_price</th>\n",
              "      <th>profit_markup</th>\n",
              "      <th>depth_of_tree</th>\n",
              "      <th>sales_commission</th>\n",
              "      <th>profit</th>\n",
              "    </tr>\n",
              "  </thead>\n",
              "  <tbody>\n",
              "    <tr>\n",
              "      <th>count</th>\n",
              "      <td>500.000000</td>\n",
              "      <td>500.0</td>\n",
              "      <td>500.000000</td>\n",
              "      <td>500.000000</td>\n",
              "      <td>500.0</td>\n",
              "      <td>500.000000</td>\n",
              "    </tr>\n",
              "    <tr>\n",
              "      <th>mean</th>\n",
              "      <td>250.500000</td>\n",
              "      <td>3500.0</td>\n",
              "      <td>3.498000</td>\n",
              "      <td>15.896000</td>\n",
              "      <td>1000.0</td>\n",
              "      <td>-6153.000000</td>\n",
              "    </tr>\n",
              "    <tr>\n",
              "      <th>std</th>\n",
              "      <td>144.481833</td>\n",
              "      <td>0.0</td>\n",
              "      <td>1.126292</td>\n",
              "      <td>8.095694</td>\n",
              "      <td>0.0</td>\n",
              "      <td>9080.528784</td>\n",
              "    </tr>\n",
              "    <tr>\n",
              "      <th>min</th>\n",
              "      <td>1.000000</td>\n",
              "      <td>3500.0</td>\n",
              "      <td>2.000000</td>\n",
              "      <td>2.000000</td>\n",
              "      <td>1000.0</td>\n",
              "      <td>-25500.000000</td>\n",
              "    </tr>\n",
              "    <tr>\n",
              "      <th>25%</th>\n",
              "      <td>125.750000</td>\n",
              "      <td>3500.0</td>\n",
              "      <td>3.000000</td>\n",
              "      <td>9.000000</td>\n",
              "      <td>1000.0</td>\n",
              "      <td>-12500.000000</td>\n",
              "    </tr>\n",
              "    <tr>\n",
              "      <th>50%</th>\n",
              "      <td>250.500000</td>\n",
              "      <td>3500.0</td>\n",
              "      <td>3.000000</td>\n",
              "      <td>16.000000</td>\n",
              "      <td>1000.0</td>\n",
              "      <td>-6500.000000</td>\n",
              "    </tr>\n",
              "    <tr>\n",
              "      <th>75%</th>\n",
              "      <td>375.250000</td>\n",
              "      <td>3500.0</td>\n",
              "      <td>5.000000</td>\n",
              "      <td>23.000000</td>\n",
              "      <td>1000.0</td>\n",
              "      <td>500.000000</td>\n",
              "    </tr>\n",
              "    <tr>\n",
              "      <th>max</th>\n",
              "      <td>500.000000</td>\n",
              "      <td>3500.0</td>\n",
              "      <td>5.000000</td>\n",
              "      <td>30.000000</td>\n",
              "      <td>1000.0</td>\n",
              "      <td>13000.000000</td>\n",
              "    </tr>\n",
              "  </tbody>\n",
              "</table>\n",
              "</div>\n",
              "      <button class=\"colab-df-convert\" onclick=\"convertToInteractive('df-4eeee0a2-c1a3-417f-a70c-8ddd1d4c3fa3')\"\n",
              "              title=\"Convert this dataframe to an interactive table.\"\n",
              "              style=\"display:none;\">\n",
              "        \n",
              "  <svg xmlns=\"http://www.w3.org/2000/svg\" height=\"24px\"viewBox=\"0 0 24 24\"\n",
              "       width=\"24px\">\n",
              "    <path d=\"M0 0h24v24H0V0z\" fill=\"none\"/>\n",
              "    <path d=\"M18.56 5.44l.94 2.06.94-2.06 2.06-.94-2.06-.94-.94-2.06-.94 2.06-2.06.94zm-11 1L8.5 8.5l.94-2.06 2.06-.94-2.06-.94L8.5 2.5l-.94 2.06-2.06.94zm10 10l.94 2.06.94-2.06 2.06-.94-2.06-.94-.94-2.06-.94 2.06-2.06.94z\"/><path d=\"M17.41 7.96l-1.37-1.37c-.4-.4-.92-.59-1.43-.59-.52 0-1.04.2-1.43.59L10.3 9.45l-7.72 7.72c-.78.78-.78 2.05 0 2.83L4 21.41c.39.39.9.59 1.41.59.51 0 1.02-.2 1.41-.59l7.78-7.78 2.81-2.81c.8-.78.8-2.07 0-2.86zM5.41 20L4 18.59l7.72-7.72 1.47 1.35L5.41 20z\"/>\n",
              "  </svg>\n",
              "      </button>\n",
              "      \n",
              "  <style>\n",
              "    .colab-df-container {\n",
              "      display:flex;\n",
              "      flex-wrap:wrap;\n",
              "      gap: 12px;\n",
              "    }\n",
              "\n",
              "    .colab-df-convert {\n",
              "      background-color: #E8F0FE;\n",
              "      border: none;\n",
              "      border-radius: 50%;\n",
              "      cursor: pointer;\n",
              "      display: none;\n",
              "      fill: #1967D2;\n",
              "      height: 32px;\n",
              "      padding: 0 0 0 0;\n",
              "      width: 32px;\n",
              "    }\n",
              "\n",
              "    .colab-df-convert:hover {\n",
              "      background-color: #E2EBFA;\n",
              "      box-shadow: 0px 1px 2px rgba(60, 64, 67, 0.3), 0px 1px 3px 1px rgba(60, 64, 67, 0.15);\n",
              "      fill: #174EA6;\n",
              "    }\n",
              "\n",
              "    [theme=dark] .colab-df-convert {\n",
              "      background-color: #3B4455;\n",
              "      fill: #D2E3FC;\n",
              "    }\n",
              "\n",
              "    [theme=dark] .colab-df-convert:hover {\n",
              "      background-color: #434B5C;\n",
              "      box-shadow: 0px 1px 3px 1px rgba(0, 0, 0, 0.15);\n",
              "      filter: drop-shadow(0px 1px 2px rgba(0, 0, 0, 0.3));\n",
              "      fill: #FFFFFF;\n",
              "    }\n",
              "  </style>\n",
              "\n",
              "      <script>\n",
              "        const buttonEl =\n",
              "          document.querySelector('#df-4eeee0a2-c1a3-417f-a70c-8ddd1d4c3fa3 button.colab-df-convert');\n",
              "        buttonEl.style.display =\n",
              "          google.colab.kernel.accessAllowed ? 'block' : 'none';\n",
              "\n",
              "        async function convertToInteractive(key) {\n",
              "          const element = document.querySelector('#df-4eeee0a2-c1a3-417f-a70c-8ddd1d4c3fa3');\n",
              "          const dataTable =\n",
              "            await google.colab.kernel.invokeFunction('convertToInteractive',\n",
              "                                                     [key], {});\n",
              "          if (!dataTable) return;\n",
              "\n",
              "          const docLinkHtml = 'Like what you see? Visit the ' +\n",
              "            '<a target=\"_blank\" href=https://colab.research.google.com/notebooks/data_table.ipynb>data table notebook</a>'\n",
              "            + ' to learn more about interactive tables.';\n",
              "          element.innerHTML = '';\n",
              "          dataTable['output_type'] = 'display_data';\n",
              "          await google.colab.output.renderOutput(dataTable, element);\n",
              "          const docLink = document.createElement('div');\n",
              "          docLink.innerHTML = docLinkHtml;\n",
              "          element.appendChild(docLink);\n",
              "        }\n",
              "      </script>\n",
              "    </div>\n",
              "  </div>\n",
              "  "
            ]
          },
          "metadata": {},
          "execution_count": 4
        }
      ],
      "source": [
        "# Description of overall data\n",
        "data.describe()"
      ]
    },
    {
      "cell_type": "code",
      "execution_count": null,
      "id": "1c4e1c0e-b134-4ec0-9c14-03a3d4c2f258",
      "metadata": {
        "colab": {
          "base_uri": "https://localhost:8080/"
        },
        "id": "1c4e1c0e-b134-4ec0-9c14-03a3d4c2f258",
        "outputId": "fcdc002f-9de3-4dc9-d1e7-aeb1356316f6"
      },
      "outputs": [
        {
          "output_type": "stream",
          "name": "stdout",
          "text": [
            "   Unnamed: 0  cost_price  profit_markup  depth_of_tree  sales_commission  \\\n",
            "0           1        3500              2             21              1000   \n",
            "1           2        3500              2             26              1000   \n",
            "2           3        3500              2             23              1000   \n",
            "3           4        3500              3             12              1000   \n",
            "4           5        3500              2             12              1000   \n",
            "\n",
            "   profit  \n",
            "0  -16500  \n",
            "1  -21500  \n",
            "2  -18500  \n",
            "3   -4000  \n",
            "4   -7500  \n",
            "   cost_price  profit_markup  depth_of_tree  sales_commission  profit\n",
            "0        3500              2             21              1000  -16500\n",
            "1        3500              2             26              1000  -21500\n",
            "2        3500              2             23              1000  -18500\n",
            "3        3500              3             12              1000   -4000\n",
            "4        3500              2             12              1000   -7500\n"
          ]
        }
      ],
      "source": [
        "# Printing the original data\n",
        "print(data.head())\n",
        "# take all rows\n",
        "# take all col from 1 to end\n",
        "data = data.iloc[:,1:]\n",
        "# Printing the new data\n",
        "print(data.head())"
      ]
    },
    {
      "cell_type": "code",
      "execution_count": null,
      "id": "e8dfbe65-1a23-4325-aa16-9a566c360aec",
      "metadata": {
        "colab": {
          "base_uri": "https://localhost:8080/",
          "height": 721
        },
        "id": "e8dfbe65-1a23-4325-aa16-9a566c360aec",
        "outputId": "b0e73203-0e72-473d-9c82-1fcb597b86fb"
      },
      "outputs": [
        {
          "output_type": "display_data",
          "data": {
            "text/plain": [
              "<Figure size 864x432 with 0 Axes>"
            ]
          },
          "metadata": {}
        },
        {
          "output_type": "display_data",
          "data": {
            "text/plain": [
              "<Figure size 900x900 with 30 Axes>"
            ],
            "image/png": "[encoded data removed]"
          },
          "metadata": {
            "needs_background": "light"
          }
        }
      ],
      "source": [
        "# Printing the pairplot graph for the data\n",
        "plt.figure(figsize=(12,6))\n",
        "sns.pairplot(data,kind='scatter')\n",
        "plt.show()"
      ]
    },
    {
      "cell_type": "code",
      "execution_count": null,
      "id": "ff706f80-7156-44bc-bdbc-3af291bbf61f",
      "metadata": {
        "colab": {
          "base_uri": "https://localhost:8080/",
          "height": 373
        },
        "id": "ff706f80-7156-44bc-bdbc-3af291bbf61f",
        "outputId": "d134d81f-31f2-446b-bbd5-62d22ea6a6da"
      },
      "outputs": [
        {
          "output_type": "execute_result",
          "data": {
            "text/plain": [
              "<matplotlib.axes._subplots.AxesSubplot at 0x7f6727d11510>"
            ]
          },
          "metadata": {},
          "execution_count": 7
        },
        {
          "output_type": "display_data",
          "data": {
            "text/plain": [
              "<Figure size 864x432 with 2 Axes>"
            ],
            "image/png": "[encoded data removed]"
          },
          "metadata": {
            "needs_background": "light"
          }
        }
      ],
      "source": [
        "plt.figure(figsize=(12,6))\n",
        "cor = data.corr()\n",
        "# correlate all columns with each other\n",
        "# +ve => directly prop\n",
        "# -ve => inversely prop\n",
        "sns.heatmap(cor,annot=True)"
      ]
    },
    {
      "cell_type": "code",
      "execution_count": null,
      "id": "85d8170b-6b98-4287-a1fb-3f51e1abe583",
      "metadata": {
        "colab": {
          "base_uri": "https://localhost:8080/",
          "height": 298
        },
        "id": "85d8170b-6b98-4287-a1fb-3f51e1abe583",
        "outputId": "efe71744-26ae-4fa1-dff8-29bf2e800ff0"
      },
      "outputs": [
        {
          "output_type": "execute_result",
          "data": {
            "text/plain": [
              "<matplotlib.axes._subplots.AxesSubplot at 0x7f672843add0>"
            ]
          },
          "metadata": {},
          "execution_count": 8
        },
        {
          "output_type": "display_data",
          "data": {
            "text/plain": [
              "<Figure size 432x288 with 1 Axes>"
            ],
            "image/png": "[encoded data removed]"
          },
          "metadata": {
            "needs_background": "light"
          }
        }
      ],
      "source": [
        "# Plotting boxplot for column cost_price\n",
        "sns.boxplot(x = data['cost_price'])"
      ]
    },
    {
      "cell_type": "code",
      "execution_count": null,
      "id": "67259ef5-b133-48e3-a151-0afd20923551",
      "metadata": {
        "colab": {
          "base_uri": "https://localhost:8080/",
          "height": 298
        },
        "id": "67259ef5-b133-48e3-a151-0afd20923551",
        "outputId": "065327cd-c985-4058-9b5a-1b7855664650"
      },
      "outputs": [
        {
          "output_type": "execute_result",
          "data": {
            "text/plain": [
              "<matplotlib.axes._subplots.AxesSubplot at 0x7f6726390690>"
            ]
          },
          "metadata": {},
          "execution_count": 9
        },
        {
          "output_type": "display_data",
          "data": {
            "text/plain": [
              "<Figure size 432x288 with 1 Axes>"
            ],
            "image/png": "[encoded data removed]"
          },
          "metadata": {
            "needs_background": "light"
          }
        }
      ],
      "source": [
        "# Plotting boxplot for column profit_markup\n",
        "sns.boxplot(x = data['profit_markup'])"
      ]
    },
    {
      "cell_type": "code",
      "execution_count": null,
      "id": "46870cf2-ef2b-4592-b34d-d8359e356c3d",
      "metadata": {
        "colab": {
          "base_uri": "https://localhost:8080/",
          "height": 298
        },
        "id": "46870cf2-ef2b-4592-b34d-d8359e356c3d",
        "outputId": "ca8551e8-4e06-4e10-a027-75488acb9908"
      },
      "outputs": [
        {
          "output_type": "execute_result",
          "data": {
            "text/plain": [
              "<matplotlib.axes._subplots.AxesSubplot at 0x7f67263781d0>"
            ]
          },
          "metadata": {},
          "execution_count": 10
        },
        {
          "output_type": "display_data",
          "data": {
            "text/plain": [
              "<Figure size 432x288 with 1 Axes>"
            ],
            "image/png": "[encoded data removed]"
          },
          "metadata": {
            "needs_background": "light"
          }
        }
      ],
      "source": [
        "# Plotting boxplot for column depth_of_tree\n",
        "sns.boxplot(x = data['depth_of_tree'])"
      ]
    },
    {
      "cell_type": "code",
      "execution_count": null,
      "id": "04c6044e-b773-4574-ac76-1c99db2038db",
      "metadata": {
        "colab": {
          "base_uri": "https://localhost:8080/",
          "height": 298
        },
        "id": "04c6044e-b773-4574-ac76-1c99db2038db",
        "outputId": "ab16329c-4604-4aec-e0da-ba6e84038796"
      },
      "outputs": [
        {
          "output_type": "execute_result",
          "data": {
            "text/plain": [
              "<matplotlib.axes._subplots.AxesSubplot at 0x7f67262e6fd0>"
            ]
          },
          "metadata": {},
          "execution_count": 11
        },
        {
          "output_type": "display_data",
          "data": {
            "text/plain": [
              "<Figure size 432x288 with 1 Axes>"
            ],
            "image/png": "[encoded data removed]"
          },
          "metadata": {
            "needs_background": "light"
          }
        }
      ],
      "source": [
        "# Plotting boxplot for column sales_commission\n",
        "sns.boxplot(x = data['sales_commission'])"
      ]
    },
    {
      "cell_type": "code",
      "source": [
        "# X['profit_markup'] shows the 'profit_markup' values\n",
        "sns.distplot(x = data['profit_markup'])\n",
        "plt.figure()"
      ],
      "metadata": {
        "colab": {
          "base_uri": "https://localhost:8080/",
          "height": 358
        },
        "id": "63simqNsXykc",
        "outputId": "8fdae5e9-f49a-4f1c-a9b9-40401c47ed23"
      },
      "id": "63simqNsXykc",
      "execution_count": null,
      "outputs": [
        {
          "output_type": "stream",
          "name": "stderr",
          "text": [
            "/usr/local/lib/python3.7/dist-packages/seaborn/distributions.py:2619: FutureWarning: `distplot` is a deprecated function and will be removed in a future version. Please adapt your code to use either `displot` (a figure-level function with similar flexibility) or `histplot` (an axes-level function for histograms).\n",
            "  warnings.warn(msg, FutureWarning)\n"
          ]
        },
        {
          "output_type": "execute_result",
          "data": {
            "text/plain": [
              "<Figure size 432x288 with 0 Axes>"
            ]
          },
          "metadata": {},
          "execution_count": 12
        },
        {
          "output_type": "display_data",
          "data": {
            "text/plain": [
              "<Figure size 432x288 with 1 Axes>"
            ],
            "image/png": "[encoded data removed]"
          },
          "metadata": {
            "needs_background": "light"
          }
        },
        {
          "output_type": "display_data",
          "data": {
            "text/plain": [
              "<Figure size 432x288 with 0 Axes>"
            ]
          },
          "metadata": {}
        }
      ]
    },
    {
      "cell_type": "code",
      "source": [
        "# X['profit_markup'] shows the 'profit_markup' values\n",
        "sns.distplot(x = data['depth_of_tree'])\n",
        "plt.figure()"
      ],
      "metadata": {
        "colab": {
          "base_uri": "https://localhost:8080/",
          "height": 358
        },
        "id": "DY84zEN3X253",
        "outputId": "ae8d12d7-4484-4cd8-951c-72fc732330ad"
      },
      "id": "DY84zEN3X253",
      "execution_count": null,
      "outputs": [
        {
          "output_type": "stream",
          "name": "stderr",
          "text": [
            "/usr/local/lib/python3.7/dist-packages/seaborn/distributions.py:2619: FutureWarning: `distplot` is a deprecated function and will be removed in a future version. Please adapt your code to use either `displot` (a figure-level function with similar flexibility) or `histplot` (an axes-level function for histograms).\n",
            "  warnings.warn(msg, FutureWarning)\n"
          ]
        },
        {
          "output_type": "execute_result",
          "data": {
            "text/plain": [
              "<Figure size 432x288 with 0 Axes>"
            ]
          },
          "metadata": {},
          "execution_count": 13
        },
        {
          "output_type": "display_data",
          "data": {
            "text/plain": [
              "<Figure size 432x288 with 1 Axes>"
            ],
            "image/png": "[encoded data removed]"
          },
          "metadata": {
            "needs_background": "light"
          }
        },
        {
          "output_type": "display_data",
          "data": {
            "text/plain": [
              "<Figure size 432x288 with 0 Axes>"
            ]
          },
          "metadata": {}
        }
      ]
    },
    {
      "cell_type": "markdown",
      "source": [
        "##**DATA PREPROCESSING**"
      ],
      "metadata": {
        "id": "BWhz24NWKZ_Y"
      },
      "id": "BWhz24NWKZ_Y"
    },
    {
      "cell_type": "code",
      "execution_count": null,
      "id": "a05d2ef3-0f36-41a1-948a-6abd49854154",
      "metadata": {
        "colab": {
          "base_uri": "https://localhost:8080/",
          "height": 206
        },
        "id": "a05d2ef3-0f36-41a1-948a-6abd49854154",
        "outputId": "025d22c4-74f6-40eb-d052-d9f78857c66c"
      },
      "outputs": [
        {
          "output_type": "execute_result",
          "data": {
            "text/plain": [
              "   profit_markup  depth_of_tree\n",
              "0              2             21\n",
              "1              2             26\n",
              "2              2             23\n",
              "3              3             12\n",
              "4              2             12"
            ],
            "text/html": [
              "\n",
              "  <div id=\"df-eb0c04e0-778b-4d00-8654-48974328634e\">\n",
              "    <div class=\"colab-df-container\">\n",
              "      <div>\n",
              "<style scoped>\n",
              "    .dataframe tbody tr th:only-of-type {\n",
              "        vertical-align: middle;\n",
              "    }\n",
              "\n",
              "    .dataframe tbody tr th {\n",
              "        vertical-align: top;\n",
              "    }\n",
              "\n",
              "    .dataframe thead th {\n",
              "        text-align: right;\n",
              "    }\n",
              "</style>\n",
              "<table border=\"1\" class=\"dataframe\">\n",
              "  <thead>\n",
              "    <tr style=\"text-align: right;\">\n",
              "      <th></th>\n",
              "      <th>profit_markup</th>\n",
              "      <th>depth_of_tree</th>\n",
              "    </tr>\n",
              "  </thead>\n",
              "  <tbody>\n",
              "    <tr>\n",
              "      <th>0</th>\n",
              "      <td>2</td>\n",
              "      <td>21</td>\n",
              "    </tr>\n",
              "    <tr>\n",
              "      <th>1</th>\n",
              "      <td>2</td>\n",
              "      <td>26</td>\n",
              "    </tr>\n",
              "    <tr>\n",
              "      <th>2</th>\n",
              "      <td>2</td>\n",
              "      <td>23</td>\n",
              "    </tr>\n",
              "    <tr>\n",
              "      <th>3</th>\n",
              "      <td>3</td>\n",
              "      <td>12</td>\n",
              "    </tr>\n",
              "    <tr>\n",
              "      <th>4</th>\n",
              "      <td>2</td>\n",
              "      <td>12</td>\n",
              "    </tr>\n",
              "  </tbody>\n",
              "</table>\n",
              "</div>\n",
              "      <button class=\"colab-df-convert\" onclick=\"convertToInteractive('df-eb0c04e0-778b-4d00-8654-48974328634e')\"\n",
              "              title=\"Convert this dataframe to an interactive table.\"\n",
              "              style=\"display:none;\">\n",
              "        \n",
              "  <svg xmlns=\"http://www.w3.org/2000/svg\" height=\"24px\"viewBox=\"0 0 24 24\"\n",
              "       width=\"24px\">\n",
              "    <path d=\"M0 0h24v24H0V0z\" fill=\"none\"/>\n",
              "    <path d=\"M18.56 5.44l.94 2.06.94-2.06 2.06-.94-2.06-.94-.94-2.06-.94 2.06-2.06.94zm-11 1L8.5 8.5l.94-2.06 2.06-.94-2.06-.94L8.5 2.5l-.94 2.06-2.06.94zm10 10l.94 2.06.94-2.06 2.06-.94-2.06-.94-.94-2.06-.94 2.06-2.06.94z\"/><path d=\"M17.41 7.96l-1.37-1.37c-.4-.4-.92-.59-1.43-.59-.52 0-1.04.2-1.43.59L10.3 9.45l-7.72 7.72c-.78.78-.78 2.05 0 2.83L4 21.41c.39.39.9.59 1.41.59.51 0 1.02-.2 1.41-.59l7.78-7.78 2.81-2.81c.8-.78.8-2.07 0-2.86zM5.41 20L4 18.59l7.72-7.72 1.47 1.35L5.41 20z\"/>\n",
              "  </svg>\n",
              "      </button>\n",
              "      \n",
              "  <style>\n",
              "    .colab-df-container {\n",
              "      display:flex;\n",
              "      flex-wrap:wrap;\n",
              "      gap: 12px;\n",
              "    }\n",
              "\n",
              "    .colab-df-convert {\n",
              "      background-color: #E8F0FE;\n",
              "      border: none;\n",
              "      border-radius: 50%;\n",
              "      cursor: pointer;\n",
              "      display: none;\n",
              "      fill: #1967D2;\n",
              "      height: 32px;\n",
              "      padding: 0 0 0 0;\n",
              "      width: 32px;\n",
              "    }\n",
              "\n",
              "    .colab-df-convert:hover {\n",
              "      background-color: #E2EBFA;\n",
              "      box-shadow: 0px 1px 2px rgba(60, 64, 67, 0.3), 0px 1px 3px 1px rgba(60, 64, 67, 0.15);\n",
              "      fill: #174EA6;\n",
              "    }\n",
              "\n",
              "    [theme=dark] .colab-df-convert {\n",
              "      background-color: #3B4455;\n",
              "      fill: #D2E3FC;\n",
              "    }\n",
              "\n",
              "    [theme=dark] .colab-df-convert:hover {\n",
              "      background-color: #434B5C;\n",
              "      box-shadow: 0px 1px 3px 1px rgba(0, 0, 0, 0.15);\n",
              "      filter: drop-shadow(0px 1px 2px rgba(0, 0, 0, 0.3));\n",
              "      fill: #FFFFFF;\n",
              "    }\n",
              "  </style>\n",
              "\n",
              "      <script>\n",
              "        const buttonEl =\n",
              "          document.querySelector('#df-eb0c04e0-778b-4d00-8654-48974328634e button.colab-df-convert');\n",
              "        buttonEl.style.display =\n",
              "          google.colab.kernel.accessAllowed ? 'block' : 'none';\n",
              "\n",
              "        async function convertToInteractive(key) {\n",
              "          const element = document.querySelector('#df-eb0c04e0-778b-4d00-8654-48974328634e');\n",
              "          const dataTable =\n",
              "            await google.colab.kernel.invokeFunction('convertToInteractive',\n",
              "                                                     [key], {});\n",
              "          if (!dataTable) return;\n",
              "\n",
              "          const docLinkHtml = 'Like what you see? Visit the ' +\n",
              "            '<a target=\"_blank\" href=https://colab.research.google.com/notebooks/data_table.ipynb>data table notebook</a>'\n",
              "            + ' to learn more about interactive tables.';\n",
              "          element.innerHTML = '';\n",
              "          dataTable['output_type'] = 'display_data';\n",
              "          await google.colab.output.renderOutput(dataTable, element);\n",
              "          const docLink = document.createElement('div');\n",
              "          docLink.innerHTML = docLinkHtml;\n",
              "          element.appendChild(docLink);\n",
              "        }\n",
              "      </script>\n",
              "    </div>\n",
              "  </div>\n",
              "  "
            ]
          },
          "metadata": {},
          "execution_count": 14
        }
      ],
      "source": [
        "# 'profit_markup' directly prop to profit\n",
        "# 'depth_of_tree' indeirectly prop to profit\n",
        "# all other fields do not relate to profit or are constants\n",
        "\n",
        "X = data[['profit_markup','depth_of_tree']]\n",
        "X.head(5)"
      ]
    },
    {
      "cell_type": "code",
      "execution_count": null,
      "id": "4e63d290-1ec3-4f51-ab0d-5b47d8320348",
      "metadata": {
        "colab": {
          "base_uri": "https://localhost:8080/"
        },
        "id": "4e63d290-1ec3-4f51-ab0d-5b47d8320348",
        "outputId": "a92e62e3-912f-4a58-e351-7f079824f38c"
      },
      "outputs": [
        {
          "output_type": "execute_result",
          "data": {
            "text/plain": [
              "0   -16500\n",
              "1   -21500\n",
              "2   -18500\n",
              "3    -4000\n",
              "4    -7500\n",
              "Name: profit, dtype: int64"
            ]
          },
          "metadata": {},
          "execution_count": 15
        }
      ],
      "source": [
        "y = data['profit']\n",
        "y.head(5)"
      ]
    },
    {
      "cell_type": "code",
      "source": [
        "Y = np.array([0 if i <= 0 else 1 for i in y])\n",
        "# show 0 for loss and 1 for profit\n",
        "# Y = TARGET DATA\n",
        "# print(Y)"
      ],
      "metadata": {
        "id": "OzmBJijSKEzP"
      },
      "id": "OzmBJijSKEzP",
      "execution_count": null,
      "outputs": []
    },
    {
      "cell_type": "code",
      "source": [
        "sns.countplot(Y)\n",
        "# 0 => LOSS (loss data)\n",
        "# 1 => PROFIT (profit data)"
      ],
      "metadata": {
        "colab": {
          "base_uri": "https://localhost:8080/",
          "height": 339
        },
        "id": "yLxvfzoYJ9YI",
        "outputId": "bdc46635-f49b-4806-8219-4b87c5490195"
      },
      "id": "yLxvfzoYJ9YI",
      "execution_count": null,
      "outputs": [
        {
          "output_type": "stream",
          "name": "stderr",
          "text": [
            "/usr/local/lib/python3.7/dist-packages/seaborn/_decorators.py:43: FutureWarning: Pass the following variable as a keyword arg: x. From version 0.12, the only valid positional argument will be `data`, and passing other arguments without an explicit keyword will result in an error or misinterpretation.\n",
            "  FutureWarning\n"
          ]
        },
        {
          "output_type": "execute_result",
          "data": {
            "text/plain": [
              "<matplotlib.axes._subplots.AxesSubplot at 0x7f67261d79d0>"
            ]
          },
          "metadata": {},
          "execution_count": 17
        },
        {
          "output_type": "display_data",
          "data": {
            "text/plain": [
              "<Figure size 432x288 with 1 Axes>"
            ],
            "image/png": "[encoded data removed]"
          },
          "metadata": {
            "needs_background": "light"
          }
        }
      ]
    },
    {
      "cell_type": "code",
      "source": [
        "# splitting train data and test data\n",
        "X_train, X_test, y_train, y_test = train_test_split(X, Y, test_size=0.2, random_state=42)"
      ],
      "metadata": {
        "id": "2GKIDYLfS0pI"
      },
      "id": "2GKIDYLfS0pI",
      "execution_count": null,
      "outputs": []
    },
    {
      "cell_type": "code",
      "source": [
        "print(\"X_train shape: \", X_train.shape)\n",
        "print(\"X_test shape: \", X_test.shape)\n",
        "print(\"y_train shape: \", y_train.shape)\n",
        "print(\"y_test shape: \", y_test.shape)"
      ],
      "metadata": {
        "colab": {
          "base_uri": "https://localhost:8080/"
        },
        "id": "NIt_L7ZCCEgm",
        "outputId": "5f3462e5-c23a-40b4-c152-c974fd2a4771"
      },
      "id": "NIt_L7ZCCEgm",
      "execution_count": null,
      "outputs": [
        {
          "output_type": "stream",
          "name": "stdout",
          "text": [
            "X_train shape:  (400, 2)\n",
            "X_test shape:  (100, 2)\n",
            "y_train shape:  (400,)\n",
            "y_test shape:  (100,)\n"
          ]
        }
      ]
    },
    {
      "cell_type": "markdown",
      "id": "0ee7c9a3-125f-4e37-b411-7d9af91dcd7f",
      "metadata": {
        "id": "0ee7c9a3-125f-4e37-b411-7d9af91dcd7f"
      },
      "source": [
        "## **MODEL**"
      ]
    },
    {
      "cell_type": "code",
      "source": [
        "# WE USE LOGISTIC REGRESSION AS WE NEED TO PREDICT EITHER PROFIT OR LOSS.\n",
        "# WE HAVE ONLY TWO CLASSES TO PREDICT. SO, WE USE IT AS IT IS A CLASSIFICATION PROBLEM."
      ],
      "metadata": {
        "id": "ZPJGLhiHL_s3"
      },
      "id": "ZPJGLhiHL_s3",
      "execution_count": null,
      "outputs": []
    },
    {
      "cell_type": "code",
      "execution_count": null,
      "id": "4735e2d8-8198-4bbe-8197-2a63ea651018",
      "metadata": {
        "id": "4735e2d8-8198-4bbe-8197-2a63ea651018"
      },
      "outputs": [],
      "source": [
        "# Calling the function LogisticRegression from sklearn.linear_model\n",
        "lr = LogisticRegression(penalty = 'l2', C = 1, max_iter = 100)"
      ]
    },
    {
      "cell_type": "code",
      "execution_count": null,
      "id": "0bef6c7f-7d44-4f74-90bf-f65ac6fa3a01",
      "metadata": {
        "colab": {
          "base_uri": "https://localhost:8080/"
        },
        "id": "0bef6c7f-7d44-4f74-90bf-f65ac6fa3a01",
        "outputId": "d4c4a68d-6c29-4c39-c6be-f42d264a6e49"
      },
      "outputs": [
        {
          "output_type": "execute_result",
          "data": {
            "text/plain": [
              "LogisticRegression(C=1)"
            ]
          },
          "metadata": {},
          "execution_count": 22
        }
      ],
      "source": [
        "# Fitting the normalised X_train values with y_train\n",
        "lr.fit(X_train, y_train)\n",
        "# lr.fit(X, Y)"
      ]
    },
    {
      "cell_type": "code",
      "execution_count": null,
      "id": "db26b281-6989-48fd-a5af-857caf9c778f",
      "metadata": {
        "colab": {
          "base_uri": "https://localhost:8080/"
        },
        "id": "db26b281-6989-48fd-a5af-857caf9c778f",
        "outputId": "991686b2-ec17-40dc-f8a0-ed50fd23458f"
      },
      "outputs": [
        {
          "output_type": "execute_result",
          "data": {
            "text/plain": [
              "0.9875"
            ]
          },
          "metadata": {},
          "execution_count": 23
        }
      ],
      "source": [
        "# Scoring the model\n",
        "lr.score(X_train, y_train)\n",
        "# lr.score(X, Y)"
      ]
    },
    {
      "cell_type": "code",
      "execution_count": null,
      "id": "f5322b88-7be3-40e8-8bcd-99f51a4c67ec",
      "metadata": {
        "colab": {
          "base_uri": "https://localhost:8080/"
        },
        "id": "f5322b88-7be3-40e8-8bcd-99f51a4c67ec",
        "outputId": "77620a04-66f9-45ee-8bb5-be4bf8d22fa9"
      },
      "outputs": [
        {
          "output_type": "execute_result",
          "data": {
            "text/plain": [
              "array([0, 1, 0, 0, 0, 1, 0, 0, 0, 0, 0, 0, 1, 0, 1, 1, 1, 0, 0, 0, 0, 0,\n",
              "       1, 0, 0, 0, 0, 0, 0, 0, 0, 0, 1, 0, 0, 0, 0, 0, 0, 0, 0, 0, 0, 1,\n",
              "       0, 1, 0, 0, 1, 0, 0, 0, 0, 1, 0, 0, 1, 0, 1, 0, 0, 1, 1, 0, 1, 0,\n",
              "       0, 0, 0, 0, 0, 1, 1, 1, 1, 1, 0, 0, 0, 0, 0, 0, 0, 1, 0, 0, 0, 1,\n",
              "       0, 0, 0, 0, 0, 0, 0, 1, 0, 0, 0, 0])"
            ]
          },
          "metadata": {},
          "execution_count": 24
        }
      ],
      "source": [
        "# Predicting the outcome for test dataset\n",
        "y_predict = lr.predict(X_test)\n",
        "y_predict"
      ]
    },
    {
      "cell_type": "code",
      "source": [
        "sns.countplot(y_test)\n",
        "plt.show()\n",
        "sns.countplot(y_predict)\n",
        "plt.show()"
      ],
      "metadata": {
        "colab": {
          "base_uri": "https://localhost:8080/",
          "height": 606
        },
        "id": "_ACIkPWrT46S",
        "outputId": "70165d06-cb8d-44a5-e3c5-8ac991565846"
      },
      "id": "_ACIkPWrT46S",
      "execution_count": null,
      "outputs": [
        {
          "output_type": "stream",
          "name": "stderr",
          "text": [
            "/usr/local/lib/python3.7/dist-packages/seaborn/_decorators.py:43: FutureWarning: Pass the following variable as a keyword arg: x. From version 0.12, the only valid positional argument will be `data`, and passing other arguments without an explicit keyword will result in an error or misinterpretation.\n",
            "  FutureWarning\n"
          ]
        },
        {
          "output_type": "display_data",
          "data": {
            "text/plain": [
              "<Figure size 432x288 with 1 Axes>"
            ],
            "image/png": "[encoded data removed]"
          },
          "metadata": {
            "needs_background": "light"
          }
        },
        {
          "output_type": "stream",
          "name": "stderr",
          "text": [
            "/usr/local/lib/python3.7/dist-packages/seaborn/_decorators.py:43: FutureWarning: Pass the following variable as a keyword arg: x. From version 0.12, the only valid positional argument will be `data`, and passing other arguments without an explicit keyword will result in an error or misinterpretation.\n",
            "  FutureWarning\n"
          ]
        },
        {
          "output_type": "display_data",
          "data": {
            "text/plain": [
              "<Figure size 432x288 with 1 Axes>"
            ],
            "image/png": "[encoded data removed]"
          },
          "metadata": {
            "needs_background": "light"
          }
        }
      ]
    },
    {
      "cell_type": "markdown",
      "source": [
        "## **Model Evaluation**"
      ],
      "metadata": {
        "id": "w2EDfKemRmUS"
      },
      "id": "w2EDfKemRmUS"
    },
    {
      "cell_type": "code",
      "source": [
        "lr.score(X_test, y_predict)"
      ],
      "metadata": {
        "colab": {
          "base_uri": "https://localhost:8080/"
        },
        "id": "7fxoXtRS42k3",
        "outputId": "b6b38ee4-57fd-4a29-be38-34bd73f8770b"
      },
      "id": "7fxoXtRS42k3",
      "execution_count": null,
      "outputs": [
        {
          "output_type": "execute_result",
          "data": {
            "text/plain": [
              "1.0"
            ]
          },
          "metadata": {},
          "execution_count": 26
        }
      ]
    },
    {
      "cell_type": "code",
      "execution_count": null,
      "id": "32eafb87-7abe-4f41-a35e-0f9ca1c9541f",
      "metadata": {
        "id": "32eafb87-7abe-4f41-a35e-0f9ca1c9541f",
        "colab": {
          "base_uri": "https://localhost:8080/"
        },
        "outputId": "a84c2751-3621-4996-b8a8-3fefe684dd65"
      },
      "outputs": [
        {
          "output_type": "execute_result",
          "data": {
            "text/plain": [
              "0.9803921568627451"
            ]
          },
          "metadata": {},
          "execution_count": 27
        }
      ],
      "source": [
        "y_pred = lr.predict(X_test)\n",
        "skm.f1_score(y_test, y_pred)"
      ]
    },
    {
      "cell_type": "code",
      "source": [
        "y_pred = lr.predict(X_test)\n",
        "skm.fbeta_score(y_test, y_pred, beta = 0.5)"
      ],
      "metadata": {
        "colab": {
          "base_uri": "https://localhost:8080/"
        },
        "id": "jNVSZSokP8JG",
        "outputId": "e510077c-0323-4cac-b02b-a4b02d3f6aee"
      },
      "id": "jNVSZSokP8JG",
      "execution_count": null,
      "outputs": [
        {
          "output_type": "execute_result",
          "data": {
            "text/plain": [
              "0.9920634920634919"
            ]
          },
          "metadata": {},
          "execution_count": 28
        }
      ]
    },
    {
      "cell_type": "code",
      "source": [
        "y_pred = lr.predict(X_test)\n",
        "skm.log_loss(y_test, y_pred, eps = 1e-15)"
      ],
      "metadata": {
        "colab": {
          "base_uri": "https://localhost:8080/"
        },
        "id": "CS-g4uOFPTRB",
        "outputId": "7fb84717-d1d7-41a8-c495-bce9862553d2"
      },
      "id": "CS-g4uOFPTRB",
      "execution_count": null,
      "outputs": [
        {
          "output_type": "execute_result",
          "data": {
            "text/plain": [
              "0.34538776394910775"
            ]
          },
          "metadata": {},
          "execution_count": 29
        }
      ]
    }
  ],
  "metadata": {
    "kernelspec": {
      "display_name": "Python 3 (ipykernel)",
      "language": "python",
      "name": "python3"
    },
    "language_info": {
      "codemirror_mode": {
        "name": "ipython",
        "version": 3
      },
      "file_extension": ".py",
      "mimetype": "text/x-python",
      "name": "python",
      "nbconvert_exporter": "python",
      "pygments_lexer": "ipython3",
      "version": "3.9.7"
    },
    "colab": {
      "name": "pyramid_scheme.ipynb",
      "provenance": [],
      "collapsed_sections": []
    }
  },
  "nbformat": 4,
  "nbformat_minor": 5
}